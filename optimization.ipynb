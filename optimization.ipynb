{
  "nbformat": 4,
  "nbformat_minor": 0,
  "metadata": {
    "colab": {
      "provenance": [],
      "authorship_tag": "ABX9TyNcai+yv8sYadOgw9Uaq6cL",
      "include_colab_link": true
    },
    "kernelspec": {
      "name": "python3",
      "display_name": "Python 3"
    },
    "language_info": {
      "name": "python"
    }
  },
  "cells": [
    {
      "cell_type": "markdown",
      "metadata": {
        "id": "view-in-github",
        "colab_type": "text"
      },
      "source": [
        "<a href=\"https://colab.research.google.com/github/Kiruba-Sherlin/optimization-model/blob/main/optimization.ipynb\" target=\"_parent\"><img src=\"https://colab.research.google.com/assets/colab-badge.svg\" alt=\"Open In Colab\"/></a>"
      ]
    },
    {
      "cell_type": "code",
      "execution_count": null,
      "metadata": {
        "colab": {
          "base_uri": "https://localhost:8080/"
        },
        "id": "Z0_1wvvV_3tc",
        "outputId": "628a5c0c-80ab-4b11-8bd6-a1a999dbf92a"
      },
      "outputs": [
        {
          "output_type": "stream",
          "name": "stdout",
          "text": [
            "Status: 1\n",
            "Produce 0.00 units of Product A\n",
            "Produce 33.33 units of Product B\n",
            "Maximum Profit: $1000.00\n"
          ]
        }
      ],
      "source": [
        "from pulp import LpMaximize, LpProblem, LpVariable, value\n",
        "\n",
        "# Define the LP problem\n",
        "model = LpProblem(name=\"maximize-profit\", sense=LpMaximize)\n",
        "\n",
        "# Define variables\n",
        "x = LpVariable(name=\"Product_A\", lowBound=0, cat='Continuous')\n",
        "y = LpVariable(name=\"Product_B\", lowBound=0, cat='Continuous')\n",
        "\n",
        "# Add objective function\n",
        "model += 20 * x + 30 * y, \"Total_Profit\"\n",
        "\n",
        "# Add constraints\n",
        "model += 2 * x + 3 * y <= 100, \"Labor_Constraint\"\n",
        "model += 4 * x + 3 * y <= 120, \"Machine_Constraint\"\n",
        "\n",
        "# Solve the problem\n",
        "model.solve()\n",
        "\n",
        "# Output results\n",
        "print(\"Status:\", model.status)\n",
        "print(f\"Produce {x.varValue:.2f} units of Product A\")\n",
        "print(f\"Produce {y.varValue:.2f} units of Product B\")\n",
        "print(f\"Maximum Profit: ${value(model.objective):.2f}\")\n"
      ]
    },
    {
      "cell_type": "code",
      "source": [
        "!pip install pulp"
      ],
      "metadata": {
        "colab": {
          "base_uri": "https://localhost:8080/"
        },
        "id": "NvftaLxxAZdS",
        "outputId": "caeebf61-2511-4863-93a1-45f3d8e64ae0"
      },
      "execution_count": null,
      "outputs": [
        {
          "output_type": "stream",
          "name": "stdout",
          "text": [
            "Collecting pulp\n",
            "  Downloading pulp-3.2.2-py3-none-any.whl.metadata (6.9 kB)\n",
            "Downloading pulp-3.2.2-py3-none-any.whl (16.4 MB)\n",
            "\u001b[2K   \u001b[90m━━━━━━━━━━━━━━━━━━━━━━━━━━━━━━━━━━━━━━━━\u001b[0m \u001b[32m16.4/16.4 MB\u001b[0m \u001b[31m79.0 MB/s\u001b[0m eta \u001b[36m0:00:00\u001b[0m\n",
            "\u001b[?25hInstalling collected packages: pulp\n",
            "Successfully installed pulp-3.2.2\n"
          ]
        }
      ]
    }
  ]
}